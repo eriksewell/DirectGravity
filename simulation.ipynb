{
 "cells": [
  {
   "cell_type": "code",
   "execution_count": 3,
   "metadata": {},
   "outputs": [],
   "source": [
    "from core import Simulation\n",
    "import numpy as np\n",
    "\n",
    "# ---Initialize simulation---\n",
    "simsize = 25\n",
    "num_frames = 1000\n",
    "dt = 0.2\n",
    "\n",
    "sim = Simulation(simsize, num_frames, dt)\n",
    "##########################################\n",
    "\n",
    "# ---Generate randomly distributed bodies---\n",
    "num_bodies = 3\n",
    "mass_range = np.array([0.1, 1])\n",
    "position_range = np.array([-10, 10])\n",
    "velocity_range = np.array([-0.1, 0.1])\n",
    "\n",
    "sim.generate_bodies(num_bodies, mass_range, position_range, velocity_range)\n",
    "##########################################\n",
    "\n",
    "# ---Generate circularly orbiting bodies---\n",
    "num_bodies = 2000\n",
    "mass_range = np.array([0.01, 1])\n",
    "radii_range = np.array([100, 3000])\n",
    "central_mass = 20000\n",
    "\n",
    "#sim.generate_circular_orbits(num_bodies, mass_range, radii_range, central_mass)\n",
    "##########################################\n",
    "\n",
    "# ---Generate clustered orbiting bodies---\n",
    "bodies = np.array([1000, 1000])\n",
    "cluster_positions = np.array([[-3000, -2000], [3000, 2000]])\n",
    "cluster_velocities = np.array([[1.75, 1.75], [-1.75, -1.75]])\n",
    "mass_range = np.array([0.1, 10])\n",
    "radii_range = np.array([100, 1500])\n",
    "central_masses = [15000, 10000, 10000]\n",
    "\n",
    "#sim.generate_clusters(bodies, cluster_positions, cluster_velocities, mass_range, radii_range, central_masses)\n",
    "##########################################\n",
    "\n",
    "# Run simulation\n",
    "sim.run_sim()"
   ]
  },
  {
   "cell_type": "code",
   "execution_count": 4,
   "metadata": {},
   "outputs": [
    {
     "name": "stdout",
     "output_type": "stream",
     "text": [
      "Rendering batch 1/10...\n",
      "Rendering batch 2/10...\n",
      "Rendering batch 3/10...\n",
      "Rendering batch 4/10...\n",
      "Rendering batch 5/10...\n",
      "Rendering batch 6/10...\n",
      "Rendering batch 7/10...\n",
      "Rendering batch 8/10...\n",
      "Rendering batch 9/10...\n",
      "Rendering batch 10/10...\n",
      "Combining frames into video...\n",
      "Cleaning up frames...\n",
      "Animation saved to simulation.mp4\n"
     ]
    }
   ],
   "source": [
    "sim.save_animation()"
   ]
  },
  {
   "cell_type": "code",
   "execution_count": null,
   "metadata": {},
   "outputs": [],
   "source": []
  }
 ],
 "metadata": {
  "kernelspec": {
   "display_name": "Python 3",
   "language": "python",
   "name": "python3"
  },
  "language_info": {
   "codemirror_mode": {
    "name": "ipython",
    "version": 3
   },
   "file_extension": ".py",
   "mimetype": "text/x-python",
   "name": "python",
   "nbconvert_exporter": "python",
   "pygments_lexer": "ipython3",
   "version": "3.10.12"
  }
 },
 "nbformat": 4,
 "nbformat_minor": 2
}
